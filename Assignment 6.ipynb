{
 "cells": [
  {
   "cell_type": "code",
   "execution_count": 37,
   "id": "2226838b-1688-4018-ba15-338affe6a65e",
   "metadata": {},
   "outputs": [],
   "source": [
    "import numpy as np\n",
    "import pandas as pd\n",
    "\n"
   ]
  },
  {
   "cell_type": "code",
   "execution_count": 16,
   "id": "5f77b796-fd72-4e6d-a1ad-f5e1b710cdc7",
   "metadata": {},
   "outputs": [
    {
     "name": "stdout",
     "output_type": "stream",
     "text": [
      "[[0.72367106 0.79685643 0.0047381  0.59347238 0.0038687 ]\n",
      " [0.95717356 0.02089598 0.0082406  0.26722036 0.16375364]\n",
      " [0.57895422 0.84430284 0.90247128 0.53526497 0.66181614]\n",
      " [0.93647135 0.2734427  0.20249499 0.45292608 0.66458153]\n",
      " [0.32940519 0.89229535 0.29438708 0.99155892 0.93207118]]\n",
      "[[0.53764393 0.14825784 0.9914738  0.93343537 0.36393919]\n",
      " [0.77655654 0.98483016 0.1516732  0.83304908 0.6737516 ]\n",
      " [0.5254848  0.11171411 0.86375821 0.87517688 0.84484875]\n",
      " [0.02789066 0.81907433 0.35143995 0.43751259 0.30170951]\n",
      " [0.19055541 0.49786279 0.76363939 0.41019085 0.74172711]]\n"
     ]
    }
   ],
   "source": [
    "#Using NumPy, create two 5 by 5 arrays.  Use rand rather than randint. Follow the steps below:\n",
    "array1=np.random.rand(5,5)\n",
    "array2=np.random.rand(5,5)\n"
   ]
  },
  {
   "cell_type": "code",
   "execution_count": 17,
   "id": "795a0c3b-dea8-4b36-8814-9af0e07376f6",
   "metadata": {},
   "outputs": [
    {
     "name": "stdout",
     "output_type": "stream",
     "text": [
      "[[1.26131499 0.94511427 0.99621191 1.52690775 0.36780788]\n",
      " [1.73373009 1.00572614 0.15991379 1.10026944 0.83750524]\n",
      " [1.10443902 0.95601695 1.7662295  1.41044185 1.50666489]\n",
      " [0.96436201 1.09251703 0.55393494 0.89043867 0.96629104]\n",
      " [0.51996061 1.39015814 1.05802647 1.40174976 1.67379828]]\n"
     ]
    }
   ],
   "source": [
    "# a- Add these matrices together (display results)\n",
    "sum_ar=array1+array2\n",
    "print(sum_ar)"
   ]
  },
  {
   "cell_type": "code",
   "execution_count": 20,
   "id": "58940764-94e0-4027-94e2-d1af984c72ec",
   "metadata": {},
   "outputs": [],
   "source": [
    "# b- Multiply the matrices using element-wise (Hadamard) multiplication and store results in another array\n",
    "mult_ar=array1*array2\n"
   ]
  },
  {
   "cell_type": "code",
   "execution_count": 54,
   "id": "053c25fd-1952-4f61-a019-1cb84507106e",
   "metadata": {},
   "outputs": [
    {
     "name": "stdout",
     "output_type": "stream",
     "text": [
      "[0.38907736 0.11814021 0.0046977  0.55396811 0.00140797 0.74329938\n",
      " 0.020579   0.00124988 0.22260767 0.11032927 0.30423164 0.09432054\n",
      " 0.77951698 0.46845153 0.55913454 0.02611881 0.2239699  0.07116483\n",
      " 0.19816086 0.20051057 0.06276994 0.44424066 0.22480557 0.40672839\n",
      " 0.69134246]\n"
     ]
    }
   ],
   "source": [
    "# c- Take the result of the above step and flatten the array and store the result in another array\n",
    "flatten_ar=mult_ar.flatten()\n",
    "print(flatten_ar)"
   ]
  },
  {
   "cell_type": "code",
   "execution_count": 27,
   "id": "e770a28d-858a-401f-abb6-e73300af5e19",
   "metadata": {},
   "outputs": [
    {
     "name": "stdout",
     "output_type": "stream",
     "text": [
      "0.24022872897564534\n",
      "0.27683295070466424\n"
     ]
    }
   ],
   "source": [
    " #d- Display the STD and mean of the result in the last step\n",
    "print(np.std(flatten_ar))\n",
    "print(np.mean(flatten_ar))"
   ]
  },
  {
   "cell_type": "code",
   "execution_count": 42,
   "id": "453ed273-87d8-4033-bd5f-b703b1f3f23b",
   "metadata": {},
   "outputs": [
    {
     "name": "stdout",
     "output_type": "stream",
     "text": [
      "{'name': ['Magnus Carlsen', 'Fabiano Caruana', 'Hikaru Nakamura', 'Ian Nepomniachtchi', 'Nodirbek Abdusattorov'], 'country': ['Norway', 'United States', 'United States', 'Russia', 'Uzbekistan'], 'score': [2830, 2804, 2781, 2766, 2766], 'rank': [1, 2, 3, 4, 4]}\n"
     ]
    }
   ],
   "source": [
    "#Create a Pandas dataframe \n",
    "#a- Go to this site: https://www.chess.com/players\n",
    "#b- Take the top 5 players and add them to a dictionary. \n",
    "#Create entries for name, country, score and rank#. The score is the number to the left of the rank #\n",
    "\n",
    "dict_chess={'name':[\"Magnus Carlsen\",\"Fabiano Caruana\",\"Hikaru Nakamura\",\"Ian Nepomniachtchi\",\"Nodirbek Abdusattorov\"],\n",
    "            'country':[\"Norway\",\"United States\",\"United States\",\"Russia\",\"Uzbekistan\"],\n",
    "            'score':[2830,2804,2781,2766,2766],\n",
    "            'rank':[1,2,3,4,4]}\n",
    "print(dict_chess)"
   ]
  },
  {
   "cell_type": "code",
   "execution_count": 46,
   "id": "b9ea83e9-a543-4241-ab6e-f47a6f3f9585",
   "metadata": {},
   "outputs": [
    {
     "name": "stdout",
     "output_type": "stream",
     "text": [
      "                    name        country  score  rank\n",
      "0         Magnus Carlsen         Norway   2830     1\n",
      "1        Fabiano Caruana  United States   2804     2\n",
      "2        Hikaru Nakamura  United States   2781     3\n",
      "3     Ian Nepomniachtchi         Russia   2766     4\n",
      "4  Nodirbek Abdusattorov     Uzbekistan   2766     4\n"
     ]
    }
   ],
   "source": [
    "#c-Add the dictionary to a dataframe\n",
    "chessdf=pd.DataFrame(dict_chess)\n",
    "print(chessdf)"
   ]
  },
  {
   "cell_type": "code",
   "execution_count": 52,
   "id": "8ef36e7b-2a33-4966-a77e-05b421e2e299",
   "metadata": {},
   "outputs": [],
   "source": [
    "#d-Add to the dataframe: add the 6th best player to the dataframe, also using a data dictionary\n",
    "sixth_player={'name':\"Ding Liren\",'country':\"China\",'score':2762,'rank':6}\n",
    "chessdf=pd.concat([chessdf,pd.DataFrame([sixth_player])],ignore_index = True)\n"
   ]
  },
  {
   "cell_type": "code",
   "execution_count": 53,
   "id": "05cceed5-6942-434b-8b30-349ddcc3c5b7",
   "metadata": {},
   "outputs": [
    {
     "name": "stdout",
     "output_type": "stream",
     "text": [
      "                    name        country  score  rank\n",
      "0         Magnus Carlsen         Norway   2830     1\n",
      "1        Fabiano Caruana  United States   2804     2\n",
      "2        Hikaru Nakamura  United States   2781     3\n",
      "3     Ian Nepomniachtchi         Russia   2766     4\n",
      "4  Nodirbek Abdusattorov     Uzbekistan   2766     4\n",
      "5             Ding Liren          China   2762     6\n"
     ]
    }
   ],
   "source": [
    "print(chessdf)"
   ]
  },
  {
   "cell_type": "code",
   "execution_count": null,
   "id": "c3809416-2a51-4654-a750-66ba798110fa",
   "metadata": {},
   "outputs": [],
   "source": []
  }
 ],
 "metadata": {
  "kernelspec": {
   "display_name": "Python 3 (ipykernel)",
   "language": "python",
   "name": "python3"
  },
  "language_info": {
   "codemirror_mode": {
    "name": "ipython",
    "version": 3
   },
   "file_extension": ".py",
   "mimetype": "text/x-python",
   "name": "python",
   "nbconvert_exporter": "python",
   "pygments_lexer": "ipython3",
   "version": "3.11.7"
  }
 },
 "nbformat": 4,
 "nbformat_minor": 5
}
